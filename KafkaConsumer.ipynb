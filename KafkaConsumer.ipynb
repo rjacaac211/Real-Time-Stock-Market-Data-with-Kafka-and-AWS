{
 "cells": [
  {
   "cell_type": "code",
   "execution_count": 1,
   "metadata": {},
   "outputs": [],
   "source": [
    "from kafka import KafkaConsumer\n",
    "from json import loads\n",
    "import json\n",
    "from s3fs import S3FileSystem"
   ]
  },
  {
   "cell_type": "code",
   "execution_count": 2,
   "metadata": {},
   "outputs": [],
   "source": [
    "# Initialize Kafka consumer to listen to 'demo_test' topic (IP omitted for security)\n",
    "consumer = KafkaConsumer(\n",
    "    'demo_test',\n",
    "    bootstrap_servers=[':9092'], # IP of Kafka broker (ommited)\n",
    "    value_deserializer=lambda x: loads(x.decode('utf-8'))) # Deserialize JSON messages"
   ]
  },
  {
   "cell_type": "code",
   "execution_count": 5,
   "metadata": {},
   "outputs": [],
   "source": [
    "# Test reading from kafka\n",
    "# for c in consumer:\n",
    "#     print(c.value)"
   ]
  },
  {
   "cell_type": "code",
   "execution_count": 3,
   "metadata": {},
   "outputs": [],
   "source": [
    "# Initialize S3 file system object\n",
    "s3 = S3FileSystem()"
   ]
  },
  {
   "cell_type": "code",
   "execution_count": null,
   "metadata": {},
   "outputs": [],
   "source": [
    "# Iterate over messages from the Kafka consumer and write each message to S3\n",
    "for count, i in enumerate(consumer):\n",
    "    with s3.open(\"s3://kafka-stock-market-rjacaac/stock_market_{}.json\".format(count), 'w') as file:\n",
    "                 json.dump(i.value, file) # Write message value to S3 as a JSON file"
   ]
  }
 ],
 "metadata": {
  "kernelspec": {
   "display_name": "kafka",
   "language": "python",
   "name": "python3"
  },
  "language_info": {
   "codemirror_mode": {
    "name": "ipython",
    "version": 3
   },
   "file_extension": ".py",
   "mimetype": "text/x-python",
   "name": "python",
   "nbconvert_exporter": "python",
   "pygments_lexer": "ipython3",
   "version": "3.10.14"
  }
 },
 "nbformat": 4,
 "nbformat_minor": 2
}
